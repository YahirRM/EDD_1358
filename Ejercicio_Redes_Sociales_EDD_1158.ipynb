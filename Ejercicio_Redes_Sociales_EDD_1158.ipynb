{
  "nbformat": 4,
  "nbformat_minor": 0,
  "metadata": {
    "colab": {
      "name": "Ejercicio_Redes_Sociales_EDD_1158.ipynb",
      "provenance": [],
      "collapsed_sections": [],
      "authorship_tag": "ABX9TyPe6X8TbF377xdszfQwV28z",
      "include_colab_link": true
    },
    "kernelspec": {
      "name": "python3",
      "display_name": "Python 3"
    },
    "language_info": {
      "name": "python"
    }
  },
  "cells": [
    {
      "cell_type": "markdown",
      "metadata": {
        "id": "view-in-github",
        "colab_type": "text"
      },
      "source": [
        "<a href=\"https://colab.research.google.com/github/YahirRM/EDD_1358/blob/main/Ejercicio_Redes_Sociales_EDD_1158.ipynb\" target=\"_parent\"><img src=\"https://colab.research.google.com/assets/colab-badge.svg\" alt=\"Open In Colab\"/></a>"
      ]
    },
    {
      "cell_type": "markdown",
      "source": [],
      "metadata": {
        "id": "wG2J-rCCIb85"
      }
    },
    {
      "cell_type": "markdown",
      "source": [
        "### 23/08/2022\n",
        "### Mercado Romero Yahir Ricardo\n",
        "\n",
        "# Ejercio Redes Sociales \n"
      ],
      "metadata": {
        "id": "3AgkR13_Its9"
      }
    },
    {
      "cell_type": "code",
      "execution_count": null,
      "metadata": {
        "id": "o9L8nJPuIPFR"
      },
      "outputs": [],
      "source": [
        "import java.io.BufferedReader;\n",
        "import java.io.FileReader;\n",
        "import java.util.Scanner;\n",
        "\n",
        "public class Main {\n",
        "\tpublic static void main(String[] args) {\t\n",
        "\t\t\n",
        "\t\ttry {\n",
        "\t\t\t// En FileReader de preferencia meta la dirrección de su archivo si es tan ambles :)\n",
        "\t\t\tBufferedReader leer = new BufferedReader(new FileReader(\"C:\\\\Users\\\\Liliana\\\\Downloads\\\\presenciaredes (1)\\\\presenciaredes.csv\"));\n",
        "\t\t\tString linea = null;\n",
        "\t\t\twhile((linea = leer.readLine()) != null) {\n",
        "\t\t\t\tString  parte []= linea.split(\",\");\n",
        "\t\t\t\tint totalParte = parte.length;\t\t\t\t\n",
        "\t\t\t\tfor (int i = 0; i < totalParte; i++) {\n",
        "\t\t\t\t\tSystem.out.print(parte[i] + \"||\");\n",
        "\t\t\t\t}\n",
        "\t\t\t\tSystem.out.println(\"\\n\");\n",
        "\t\t\t}\n",
        "\t\t} catch (Exception e) {\n",
        "\t\t\te.printStackTrace();\n",
        "\t\t}\n",
        "\t\tScanner entrada =new Scanner(System.in);\n",
        "\t\tSystem.out.println(\"Ingrese una opción a relizar: \\n 1) Diferiencia de seguidores en Twitter \"\n",
        "\t\t+ \"\\n 2) Diferencia de visualizaciones en YouTube \\n 3) Pormedio de crecimiento en Twitter\"\n",
        "\t\t+ \"\\n 4) Promedio de crecimiento en Facebook\");\n",
        "\t\tint opcion = entrada.nextInt();\n",
        "\t\t\n",
        "\t\tif(opcion == 1) {\n",
        "\t\t\tint jun = 67496;\n",
        "\t\t\tint ene = 62404;\n",
        "\t\t\tint dif = jun-ene;\n",
        "\t\t\tSystem.out.println(\" La diferiecnia de seguidores de Twitter entre el mes de enero y junios es de: \"+dif+ \" seguidores\");\n",
        "\t\t}\n",
        "\t\telse if(opcion == 2) {\n",
        "\t\t\tScanner a =new Scanner(System.in);\n",
        "\t\t\tSystem.out.println(\"Ingrese los meses a realizar la diferencia de visualizaciones \\n 1) Enero \\n 2) Febrero\"\n",
        "\t\t\t\t\t+ \"\\n 3) Marzo \\n 4) Abril \\n 5) Mayo \\n 6) Junio \");\n",
        "\t\t}\n",
        "\t\telse if(opcion == 3) {\n",
        "\t\t\tfloat valorf = 1141;\n",
        "\t\t\tfloat  valori = 863;\n",
        "\t\t\tfloat prom = ((valorf-valori)/valori)*100;\n",
        "\t\t\tSystem.out.println(\"El promedio de crecimiento de Twitter de enero a junio es: \"+prom+\" %\");\n",
        "\t\t}\n",
        "\t\telse if(opcion == 4) {\n",
        "\t\t\tfloat valorf = 7925;\n",
        "\t\t\tfloat  valori = 660;\n",
        "\t\t\tfloat prom = ((valorf-valori)/valori)*100;\n",
        "\t\t\tSystem.out.println(\"El promedio de crecimiento de Facebook de enero a junio es: \"+prom+\" %\");\n",
        "\t\t}\n",
        "\t\telse {\n",
        "\t\t\tSystem.out.println(\"Lo siento esa opción no esta disponible\");\n",
        "\t\t}\n",
        "\t}\n",
        "}"
      ]
    }
  ]
}